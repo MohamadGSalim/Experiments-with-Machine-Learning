{
 "cells": [
  {
   "cell_type": "code",
   "execution_count": 1,
   "metadata": {},
   "outputs": [],
   "source": [
    "from sklearn import tree\n",
    "from sklearn.datasets import load_iris\n",
    "from sklearn.model_selection import train_test_split, GridSearchCV\n",
    "from sklearn.neural_network import MLPClassifier\n",
    "import pandas as pd\n",
    "import matplotlib.pyplot as plt"
   ]
  },
  {
   "cell_type": "code",
   "execution_count": 2,
   "metadata": {},
   "outputs": [
    {
     "name": "stdout",
     "output_type": "stream",
     "text": [
      "  Type  LongestShell  Diameter  Height  WholeWeight  ShuckedWeight  \\\n",
      "0    F         0.605     0.470   0.165       1.1775         0.6110   \n",
      "1    M         0.550     0.425   0.150       0.8315         0.4110   \n",
      "2    M         0.460     0.345   0.110       0.4595         0.2350   \n",
      "3    F         0.650     0.475   0.165       1.3875         0.5800   \n",
      "4    M         0.575     0.470   0.140       0.8375         0.3485   \n",
      "\n",
      "   VisceraWeight  ShellWeight  Rings  \n",
      "0         0.2275       0.2920      9  \n",
      "1         0.1765       0.2165     10  \n",
      "2         0.0885       0.1160      7  \n",
      "3         0.3485       0.3095      9  \n",
      "4         0.1735       0.2400     11  \n"
     ]
    }
   ],
   "source": [
    "abalone_df = pd.read_csv('COMP472-A1-datasets/abalone.csv')\n",
    "print(abalone_df.head())"
   ]
  }
 ],
 "metadata": {
  "kernelspec": {
   "display_name": "Python 3",
   "language": "python",
   "name": "python3"
  },
  "language_info": {
   "codemirror_mode": {
    "name": "ipython",
    "version": 3
   },
   "file_extension": ".py",
   "mimetype": "text/x-python",
   "name": "python",
   "nbconvert_exporter": "python",
   "pygments_lexer": "ipython3",
   "version": "3.11.5"
  }
 },
 "nbformat": 4,
 "nbformat_minor": 2
}
