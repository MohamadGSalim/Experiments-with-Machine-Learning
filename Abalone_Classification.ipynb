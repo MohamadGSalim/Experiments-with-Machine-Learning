{
 "cells": [
  {
   "cell_type": "code",
   "execution_count": null,
   "metadata": {},
   "outputs": [],
   "source": [
    "from sklearn import tree\n",
    "from sklearn.datasets import load_iris\n",
    "from sklearn.model_selection import train_test_split, GridSearchCV\n",
    "from sklearn.neural_network import MLPClassifier\n",
    "from sklearn import preprocessing\n",
    "import pandas as pd\n",
    "import matplotlib.pyplot as plt"
   ]
  },
  {
   "cell_type": "code",
   "execution_count": null,
   "metadata": {},
   "outputs": [],
   "source": [
    "abalones_df = pd.read_csv('COMP472-A1-datasets/abalone.csv')\n",
    "# print(penguins_df.head())"
   ]
  },
  {
   "cell_type": "code",
   "execution_count": null,
   "metadata": {},
   "outputs": [],
   "source": [
    "# print csv file info\n",
    "print(abalones_df.info()) "
   ]
  },
  {
   "cell_type": "code",
   "execution_count": null,
   "metadata": {},
   "outputs": [],
   "source": [
    "# # label encoding string values to int\n",
    "le = preprocessing.LabelEncoder()\n",
    "abalones_df['Type'] = le.fit_transform(abalones_df['Type'])\n",
    "\n",
    "print(abalones_df.info()) \n",
    "print(abalones_df.head())"
   ]
  },
  {
   "cell_type": "code",
   "execution_count": null,
   "metadata": {},
   "outputs": [],
   "source": [
    "# converting the features into 1-hot vectors\n",
    "# abalones_df = pd.get_dummies(abalones_df, columns=['Type'], prefix='Type', dtype='int64')\n",
    "# print(abalones_df.info()) \n",
    "# print(abalones_df.head())"
   ]
  },
  {
   "cell_type": "code",
   "execution_count": null,
   "metadata": {},
   "outputs": [],
   "source": [
    "# plot pie chart based on output class species\n",
    "total = abalones_df['Type'].count()\n",
    "\n",
    "num_females = abalones_df[abalones_df['Type'] == 0]['Type'].count()\n",
    "percent_females= num_females / total * 100\n",
    "\n",
    "num_infants = abalones_df[abalones_df['Type'] == 1]['Type'].count()\n",
    "percent_infants = num_infants / total * 100\n",
    "\n",
    "num_males = abalones_df[abalones_df['Type'] == 2]['Type'].count()\n",
    "percent_males = num_males / total * 100\n",
    "\n",
    "species_percentages = [percent_females, percent_males, percent_infants]\n",
    "\n",
    "plt.figure(figsize=(7, 7))\n",
    "plt.pie(species_percentages, labels=['Females', 'Males', 'Infants'], autopct='%1.1f%%')\n",
    "plt.title(\"Percentange of Each Abalone Type\")\n",
    "plt.savefig('ablone_types_pie_chart.png')\n",
    "\n",
    "plt.show()"
   ]
  }
 ],
 "metadata": {
  "kernelspec": {
   "display_name": "Python 3",
   "language": "python",
   "name": "python3"
  },
  "language_info": {
   "codemirror_mode": {
    "name": "ipython",
    "version": 3
   },
   "file_extension": ".py",
   "mimetype": "text/x-python",
   "name": "python",
   "nbconvert_exporter": "python",
   "pygments_lexer": "ipython3",
   "version": "3.11.5"
  }
 },
 "nbformat": 4,
 "nbformat_minor": 2
}
