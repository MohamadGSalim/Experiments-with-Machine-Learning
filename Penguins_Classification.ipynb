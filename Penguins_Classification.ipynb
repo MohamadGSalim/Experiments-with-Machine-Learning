{
 "cells": [
  {
   "cell_type": "code",
   "execution_count": null,
   "id": "60079043-b8e2-4957-9e54-c84014bf2440",
   "metadata": {},
   "outputs": [],
   "source": [
    "from sklearn import tree\n",
    "from sklearn.datasets import load_iris\n",
    "from sklearn.model_selection import train_test_split, GridSearchCV\n",
    "from sklearn.neural_network import MLPClassifier\n",
    "from sklearn import preprocessing\n",
    "import pandas as pd\n",
    "import matplotlib.pyplot as plt\n",
    "import graphviz"
   ]
  },
  {
   "cell_type": "code",
   "execution_count": null,
   "id": "b0024218",
   "metadata": {},
   "outputs": [],
   "source": [
    "penguins_df = pd.read_csv('COMP472-A1-datasets/penguins.csv')\n",
    "# print(penguins_df.head())"
   ]
  },
  {
   "cell_type": "code",
   "execution_count": null,
   "id": "39f95f67",
   "metadata": {},
   "outputs": [],
   "source": [
    "# print csv file info\n",
    "print(penguins_df.info()) "
   ]
  },
  {
   "cell_type": "code",
   "execution_count": null,
   "metadata": {},
   "outputs": [],
   "source": [
    "# label encoding string values to int\n",
    "le = preprocessing.LabelEncoder()\n",
    "penguins_df['island'] = le.fit_transform(penguins_df['island'])\n",
    "penguins_df['sex'] = le.fit_transform(penguins_df['sex'])\n",
    "penguins_df['species'] = le.fit_transform(penguins_df['species'])\n",
    "\n",
    "# print(penguins_df.info()) \n",
    "# print(penguins_df.head())"
   ]
  },
  {
   "cell_type": "code",
   "execution_count": null,
   "metadata": {},
   "outputs": [],
   "source": [
    "# converting the features into 1-hot vectors\n",
    "# penguins_df = pd.get_dummies(penguins_df, columns=['species'], prefix='species', dtype='int64')\n",
    "# penguins_df = pd.get_dummies(penguins_df, columns=['sex'], prefix='sex', dtype='int64')\n",
    "# penguins_df = pd.get_dummies(penguins_df, columns=['island'], prefix='island', dtype='int64')\n",
    "\n",
    "# print(penguins_df.info()) \n",
    "# print(penguins_df.head())\n",
    "\n",
    "# Note we've left this commented out to not affect columns of the table being used for the rest of the results\n"
   ]
  },
  {
   "cell_type": "code",
   "execution_count": null,
   "metadata": {},
   "outputs": [],
   "source": [
    "# plot pie chart based on output class species\n",
    "total = penguins_df['species'].count()\n",
    "\n",
    "num_adelie = penguins_df[penguins_df['species'] == 0]['species'].count()\n",
    "percent_adelie = num_adelie / total * 100\n",
    "\n",
    "num_chinstrap = penguins_df[penguins_df['species'] == 1]['species'].count()\n",
    "percent_chinstrap = num_chinstrap / total * 100\n",
    "\n",
    "num_gentoo = penguins_df[penguins_df['species'] == 2]['species'].count()\n",
    "percent_gentoo = num_gentoo / total * 100\n",
    "\n",
    "species_percentages = [percent_adelie, percent_chinstrap, percent_gentoo]\n",
    "\n",
    "plt.figure(figsize=(7, 7))\n",
    "plt.pie(species_percentages, labels=['Adelie', 'Chinstrap', 'Gentoo'], autopct='%1.1f%%')\n",
    "plt.title(\"Percentange of Each Penguin Species\")\n",
    "plt.savefig('penguins_species_pie_chart.png')\n",
    "\n",
    "plt.show()\n",
    "\n",
    "# Note: dataset is not balanced as there are more almost twice as many data instances of Adelie as Chinstraps, likely creating a bias towards Adelie\n",
    "# Adeli: 43.8% \n",
    "# Gentoo: 35.7%\n",
    "# Chinstrap: 20.4%\n",
    "\n",
    "# imbalanced dataset : f1 score"
   ]
  },
  {
   "cell_type": "code",
   "execution_count": null,
   "metadata": {},
   "outputs": [],
   "source": [
    "# split data into training and testing sets\n",
    "# default split is 25% testing, 75% training\n",
    "# data is shuffled by default, but no seeding applied \n",
    "\n",
    "X, y = [penguins_df.drop('species', axis=1), penguins_df['species']]\n",
    "\n",
    "X_train_set, X_test_set, y_train_set, y_test_set = train_test_split(X, y)"
   ]
  },
  {
   "cell_type": "markdown",
   "metadata": {},
   "source": [
    "# Base-DT\n",
    "=> a decision tree with the default parameters "
   ]
  },
  {
   "cell_type": "code",
   "execution_count": null,
   "metadata": {},
   "outputs": [],
   "source": [
    "# default parameter for criterion = Gini impurity \n",
    "dtc = tree.DecisionTreeClassifier()\n",
    "\n",
    "dtc.fit(X_train_set, y_train_set)\n",
    "tree.plot_tree(dtc)\n",
    "\n",
    "dot_data = tree.export_graphviz(dtc, out_file=None,\n",
    "    feature_names= ['island', 'culmen_length_mm', 'culmen_depth_mm', 'flipper_length_mm', 'body_mass_grams', 'sex'],\n",
    "    class_names=['Adelie','Chinstrap','Gentoo'],\n",
    "    filled=True, rounded=True) \n",
    "graph = graphviz.Source(dot_data) \n",
    "\n",
    "graph.render(\"penguin_species_base_dt\")   # save to pdf"
   ]
  },
  {
   "cell_type": "code",
   "execution_count": null,
   "metadata": {},
   "outputs": [],
   "source": [
    "y_predict = dtc.predict(X_test_set)\n",
    "\n",
    "print(X_test_set)\n",
    "print(\"Predicted output: \", le.inverse_transform(y_predict))"
   ]
  },
  {
   "cell_type": "markdown",
   "metadata": {},
   "source": [
    "# Top-DT\n",
    "=> a Decision Tree found using a gridsearch "
   ]
  },
  {
   "cell_type": "code",
   "execution_count": null,
   "metadata": {},
   "outputs": [],
   "source": []
  },
  {
   "cell_type": "markdown",
   "metadata": {},
   "source": [
    "# Base-MLP\n",
    "=> a Multi-Layered Perceptron with 2 hidden layers of 100+100 neurons, sigmoid/logistic as activation function, stochastic gradient descent, and default values for the rest of the parameters"
   ]
  },
  {
   "cell_type": "code",
   "execution_count": null,
   "metadata": {},
   "outputs": [],
   "source": []
  },
  {
   "cell_type": "markdown",
   "metadata": {},
   "source": [
    "# Top-MLP\n",
    "=> a Multi-Layered Perceptron found using grid search"
   ]
  },
  {
   "cell_type": "code",
   "execution_count": null,
   "metadata": {},
   "outputs": [],
   "source": []
  }
 ],
 "metadata": {
  "kernelspec": {
   "display_name": "Python 3 (ipykernel)",
   "language": "python",
   "name": "python3"
  },
  "language_info": {
   "codemirror_mode": {
    "name": "ipython",
    "version": 3
   },
   "file_extension": ".py",
   "mimetype": "text/x-python",
   "name": "python",
   "nbconvert_exporter": "python",
   "pygments_lexer": "ipython3",
   "version": "3.11.5"
  }
 },
 "nbformat": 4,
 "nbformat_minor": 5
}
