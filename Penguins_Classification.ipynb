{
 "cells": [
  {
   "cell_type": "code",
   "execution_count": 1,
   "id": "60079043-b8e2-4957-9e54-c84014bf2440",
   "metadata": {},
   "outputs": [],
   "source": [
    "from sklearn import tree\n",
    "from sklearn.datasets import load_iris\n",
    "from sklearn.model_selection import train_test_split, GridSearchCV\n",
    "from sklearn.neural_network import MLPClassifier\n",
    "import pandas as pd\n",
    "import matplotlib.pyplot as plt"
   ]
  },
  {
   "cell_type": "code",
   "execution_count": 2,
   "id": "b0024218",
   "metadata": {},
   "outputs": [
    {
     "name": "stdout",
     "output_type": "stream",
     "text": [
      "  species     island  culmen_length_mm  culmen_depth_mm  flipper_length_mm  \\\n",
      "0  Adelie  Torgersen              39.1             18.7                181   \n",
      "1  Adelie  Torgersen              39.5             17.4                186   \n",
      "2  Adelie  Torgersen              40.3             18.0                195   \n",
      "3  Adelie  Torgersen              36.7             19.3                193   \n",
      "4  Adelie  Torgersen              39.3             20.6                190   \n",
      "\n",
      "   body_mass_g     sex  \n",
      "0         3750    MALE  \n",
      "1         3800  FEMALE  \n",
      "2         3250  FEMALE  \n",
      "3         3450  FEMALE  \n",
      "4         3650    MALE  \n"
     ]
    }
   ],
   "source": [
    "penguins_df = pd.read_csv('COMP472-A1-datasets/penguins.csv')\n",
    "print(penguins_df.head())"
   ]
  },
  {
   "cell_type": "code",
   "execution_count": 3,
   "id": "39f95f67",
   "metadata": {},
   "outputs": [
    {
     "name": "stdout",
     "output_type": "stream",
     "text": [
      "<class 'pandas.core.frame.DataFrame'>\n",
      "RangeIndex: 333 entries, 0 to 332\n",
      "Data columns (total 7 columns):\n",
      " #   Column             Non-Null Count  Dtype  \n",
      "---  ------             --------------  -----  \n",
      " 0   species            333 non-null    object \n",
      " 1   island             333 non-null    object \n",
      " 2   culmen_length_mm   333 non-null    float64\n",
      " 3   culmen_depth_mm    333 non-null    float64\n",
      " 4   flipper_length_mm  333 non-null    int64  \n",
      " 5   body_mass_g        333 non-null    int64  \n",
      " 6   sex                333 non-null    object \n",
      "dtypes: float64(2), int64(2), object(3)\n",
      "memory usage: 18.3+ KB\n",
      "None\n"
     ]
    }
   ],
   "source": [
    "print(penguins_df.info()) "
   ]
  },
  {
   "cell_type": "code",
   "execution_count": 4,
   "metadata": {},
   "outputs": [],
   "source": [
    "# # print(penguins_df['sex'].value_counts())\n",
    "# penguins_df['sex'] = penguins_df['sex'].map({'FEMALE': 0, 'MALE': 1})\n",
    "# penguins_df['sex'] = pd.to_numeric(penguins_df['sex'], errors='coerce')\n",
    "\n",
    "# # print(penguins_df['sex'].value_counts())\n",
    "# penguins_df['species'] = penguins_df['species'].map({'Adelie': 0, 'Chinstrap': 1, 'Gentoo': 2})\n",
    "# penguins_df['species'] = pd.to_numeric(penguins_df['species'], errors='coerce')\n",
    "\n",
    "# # print(penguins_df['sex'].value_counts())\n",
    "# penguins_df['island'] = penguins_df['island'].map({'Biscoe': 0, 'Dream': 1, 'Torgersen': 2})\n",
    "# penguins_df['island'] = pd.to_numeric(penguins_df['island'], errors='coerce')\n",
    "\n",
    "# print(penguins_df.info()) \n",
    "# print(penguins_df.head())"
   ]
  },
  {
   "cell_type": "code",
   "execution_count": 5,
   "metadata": {},
   "outputs": [
    {
     "name": "stdout",
     "output_type": "stream",
     "text": [
      "<class 'pandas.core.frame.DataFrame'>\n",
      "RangeIndex: 333 entries, 0 to 332\n",
      "Data columns (total 12 columns):\n",
      " #   Column             Non-Null Count  Dtype  \n",
      "---  ------             --------------  -----  \n",
      " 0   culmen_length_mm   333 non-null    float64\n",
      " 1   culmen_depth_mm    333 non-null    float64\n",
      " 2   flipper_length_mm  333 non-null    int64  \n",
      " 3   body_mass_g        333 non-null    int64  \n",
      " 4   species_Adelie     333 non-null    int64  \n",
      " 5   species_Chinstrap  333 non-null    int64  \n",
      " 6   species_Gentoo     333 non-null    int64  \n",
      " 7   sex_FEMALE         333 non-null    int64  \n",
      " 8   sex_MALE           333 non-null    int64  \n",
      " 9   island_Biscoe      333 non-null    int64  \n",
      " 10  island_Dream       333 non-null    int64  \n",
      " 11  island_Torgersen   333 non-null    int64  \n",
      "dtypes: float64(2), int64(10)\n",
      "memory usage: 31.3 KB\n",
      "None\n",
      "   culmen_length_mm  culmen_depth_mm  flipper_length_mm  body_mass_g  \\\n",
      "0              39.1             18.7                181         3750   \n",
      "1              39.5             17.4                186         3800   \n",
      "2              40.3             18.0                195         3250   \n",
      "3              36.7             19.3                193         3450   \n",
      "4              39.3             20.6                190         3650   \n",
      "\n",
      "   species_Adelie  species_Chinstrap  species_Gentoo  sex_FEMALE  sex_MALE  \\\n",
      "0               1                  0               0           0         1   \n",
      "1               1                  0               0           1         0   \n",
      "2               1                  0               0           1         0   \n",
      "3               1                  0               0           1         0   \n",
      "4               1                  0               0           0         1   \n",
      "\n",
      "   island_Biscoe  island_Dream  island_Torgersen  \n",
      "0              0             0                 1  \n",
      "1              0             0                 1  \n",
      "2              0             0                 1  \n",
      "3              0             0                 1  \n",
      "4              0             0                 1  \n"
     ]
    }
   ],
   "source": [
    "penguins_df = pd.get_dummies(penguins_df, columns=['species'], prefix='species', dtype='int64')\n",
    "penguins_df = pd.get_dummies(penguins_df, columns=['sex'], prefix='sex', dtype='int64')\n",
    "penguins_df = pd.get_dummies(penguins_df, columns=['island'], prefix='island', dtype='int64')\n",
    "\n",
    "print(penguins_df.info()) \n",
    "print(penguins_df.head())"
   ]
  }
 ],
 "metadata": {
  "kernelspec": {
   "display_name": "Python 3 (ipykernel)",
   "language": "python",
   "name": "python3"
  },
  "language_info": {
   "codemirror_mode": {
    "name": "ipython",
    "version": 3
   },
   "file_extension": ".py",
   "mimetype": "text/x-python",
   "name": "python",
   "nbconvert_exporter": "python",
   "pygments_lexer": "ipython3",
   "version": "3.11.5"
  }
 },
 "nbformat": 4,
 "nbformat_minor": 5
}
