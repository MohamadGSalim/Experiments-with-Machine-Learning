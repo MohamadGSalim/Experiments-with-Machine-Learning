{
 "cells": [
  {
   "cell_type": "code",
   "execution_count": null,
   "id": "60079043-b8e2-4957-9e54-c84014bf2440",
   "metadata": {},
   "outputs": [],
   "source": [
    "from sklearn import tree\n",
    "from sklearn.datasets import load_iris\n",
    "from sklearn.model_selection import train_test_split, GridSearchCV\n",
    "from sklearn.neural_network import MLPClassifier\n",
    "from sklearn import preprocessing\n",
    "import pandas as pd\n",
    "import matplotlib.pyplot as plt\n"
   ]
  },
  {
   "cell_type": "code",
   "execution_count": null,
   "id": "b0024218",
   "metadata": {},
   "outputs": [],
   "source": [
    "penguins_df = pd.read_csv('COMP472-A1-datasets/penguins.csv')\n",
    "# print(penguins_df.head())"
   ]
  },
  {
   "cell_type": "code",
   "execution_count": null,
   "id": "39f95f67",
   "metadata": {},
   "outputs": [],
   "source": [
    "# print csv file info\n",
    "print(penguins_df.info()) "
   ]
  },
  {
   "cell_type": "code",
   "execution_count": null,
   "metadata": {},
   "outputs": [],
   "source": [
    "# label encoding string values to int\n",
    "le = preprocessing.LabelEncoder()\n",
    "penguins_df['species'] = le.fit_transform(penguins_df['species'])\n",
    "penguins_df['island'] = le.fit_transform(penguins_df['island'])\n",
    "penguins_df['sex'] = le.fit_transform(penguins_df['sex'])\n",
    "\n",
    "# print(penguins_df.info()) \n",
    "# print(penguins_df.head())"
   ]
  },
  {
   "cell_type": "code",
   "execution_count": null,
   "metadata": {},
   "outputs": [],
   "source": [
    "# converting the features into 1-hot vectors\n",
    "# penguins_df = pd.get_dummies(penguins_df, columns=['species'], prefix='species', dtype='int64')\n",
    "# penguins_df = pd.get_dummies(penguins_df, columns=['sex'], prefix='sex', dtype='int64')\n",
    "# penguins_df = pd.get_dummies(penguins_df, columns=['island'], prefix='island', dtype='int64')\n",
    "\n",
    "# print(penguins_df.info()) \n",
    "# print(penguins_df.head())"
   ]
  },
  {
   "cell_type": "code",
   "execution_count": null,
   "metadata": {},
   "outputs": [],
   "source": [
    "# plot pie chart based on output class species\n",
    "total = penguins_df['species'].count()\n",
    "\n",
    "num_adelie = penguins_df[penguins_df['species'] == 0]['species'].count()\n",
    "percent_adelie = num_adelie / total * 100\n",
    "\n",
    "num_chinstrap = penguins_df[penguins_df['species'] == 1]['species'].count()\n",
    "percent_chinstrap = num_chinstrap / total * 100\n",
    "\n",
    "num_gentoo = penguins_df[penguins_df['species'] == 2]['species'].count()\n",
    "percent_gentoo = num_gentoo / total * 100\n",
    "\n",
    "species_percentages = [percent_adelie, percent_chinstrap, percent_gentoo]\n",
    "\n",
    "plt.figure(figsize=(7, 7))\n",
    "plt.pie(species_percentages, labels=['Adelie', 'Chinstrap', 'Gentoo'], autopct='%1.1f%%')\n",
    "plt.title(\"Percentange of Each Penguin Species\")\n",
    "plt.savefig('penguins_species_pie_chart.png')\n",
    "\n",
    "plt.show()"
   ]
  }
 ],
 "metadata": {
  "kernelspec": {
   "display_name": "Python 3 (ipykernel)",
   "language": "python",
   "name": "python3"
  },
  "language_info": {
   "codemirror_mode": {
    "name": "ipython",
    "version": 3
   },
   "file_extension": ".py",
   "mimetype": "text/x-python",
   "name": "python",
   "nbconvert_exporter": "python",
   "pygments_lexer": "ipython3",
   "version": "3.11.5"
  }
 },
 "nbformat": 4,
 "nbformat_minor": 5
}
